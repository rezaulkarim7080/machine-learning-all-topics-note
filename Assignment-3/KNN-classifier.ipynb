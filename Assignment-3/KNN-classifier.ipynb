{
 "cells": [
  {
   "cell_type": "markdown",
   "metadata": {},
   "source": [
    "# <font color=\"red\"> Using KNN classifier\n"
   ]
  },
  {
   "cell_type": "code",
   "execution_count": 6,
   "metadata": {},
   "outputs": [],
   "source": [
    "import numpy as np\n",
    "import matplotlib.pyplot as plt\n",
    "from sklearn.model_selection import train_test_split\n",
    "from sklearn.neighbors import KNeighborsClassifier\n",
    "from sklearn.model_selection import GridSearchCV\n",
    "from sklearn.metrics import accuracy_score, confusion_matrix\n",
    "from sklearn.preprocessing import StandardScaler\n",
    "from sklearn.pipeline import Pipeline"
   ]
  },
  {
   "cell_type": "markdown",
   "metadata": {},
   "source": [
    "# Load data\n"
   ]
  },
  {
   "cell_type": "code",
   "execution_count": 19,
   "metadata": {},
   "outputs": [],
   "source": [
    "\n",
    "data = np.load('Data.npy')\n",
    "labels = np.load('Labels.npy')\n"
   ]
  },
  {
   "cell_type": "code",
   "execution_count": 26,
   "metadata": {},
   "outputs": [
    {
     "data": {
      "text/plain": [
       "array([[[135., 133., 131., ...,  24.,  21.,  19.],\n",
       "        [132., 130., 129., ...,  32.,  28.,  24.],\n",
       "        [134., 128., 125., ...,  43.,  37.,  32.],\n",
       "        ...,\n",
       "        [  2.,   2.,   3., ..., 161., 161., 157.],\n",
       "        [  1.,   2.,   3., ..., 162., 164., 159.],\n",
       "        [  3.,   2.,   3., ..., 164., 166., 161.]],\n",
       "\n",
       "       [[185.,  40.,   0., ...,   0.,  24., 131.],\n",
       "        [ 75.,  14.,   0., ...,   0.,   8.,  42.],\n",
       "        [ 11.,   2.,   0., ...,   1.,   3.,  12.],\n",
       "        ...,\n",
       "        [ 78.,  62.,  68., ...,   3.,  13.,  27.],\n",
       "        [104.,  74.,  75., ...,   1.,  23.,  83.],\n",
       "        [156.,  90.,  78., ...,   1.,  45., 167.]],\n",
       "\n",
       "       [[ 24.,  24.,  24., ...,  32.,  33.,  33.],\n",
       "        [ 27.,  26.,  26., ...,  35.,  36.,  36.],\n",
       "        [ 27.,  25.,  25., ...,  35.,  36.,  37.],\n",
       "        ...,\n",
       "        [ 29.,  27.,  26., ...,  32.,  31.,  32.],\n",
       "        [ 28.,  26.,  25., ...,  31.,  30.,  31.],\n",
       "        [ 25.,  24.,  23., ...,  28.,  27.,  28.]],\n",
       "\n",
       "       ...,\n",
       "\n",
       "       [[  0.,   0.,   0., ...,   0.,   0.,   0.],\n",
       "        [  0.,   0.,   0., ...,   0.,   0.,   0.],\n",
       "        [  0.,   0.,   0., ...,   0.,   0.,   0.],\n",
       "        ...,\n",
       "        [162., 162., 167., ...,   0.,   0.,   0.],\n",
       "        [171., 172., 177., ...,   1.,   0.,   0.],\n",
       "        [179., 180., 185., ...,   3.,   0.,   0.]],\n",
       "\n",
       "       [[  1.,   0.,   0., ...,   8.,  10.,  14.],\n",
       "        [  1.,   0.,   0., ...,   1.,   2.,   2.],\n",
       "        [  0.,   0.,   0., ...,   0.,   0.,   0.],\n",
       "        ...,\n",
       "        [ 48.,  62.,  70., ..., 122., 127., 134.],\n",
       "        [ 52.,  66.,  75., ..., 122., 126., 134.],\n",
       "        [ 55.,  71.,  81., ..., 120., 126., 134.]],\n",
       "\n",
       "       [[ 25.,   8.,   2., ...,   0.,   1.,   2.],\n",
       "        [  6.,   2.,   0., ...,   0.,   0.,   0.],\n",
       "        [  1.,   0.,   0., ...,   0.,   0.,   0.],\n",
       "        ...,\n",
       "        [  0.,   0.,   0., ...,   0.,   0.,   0.],\n",
       "        [  0.,   0.,   0., ...,   0.,   0.,   0.],\n",
       "        [  0.,   0.,   0., ...,   0.,   0.,   0.]]], dtype=float32)"
      ]
     },
     "execution_count": 26,
     "metadata": {},
     "output_type": "execute_result"
    }
   ],
   "source": [
    "data"
   ]
  },
  {
   "cell_type": "code",
   "execution_count": 27,
   "metadata": {},
   "outputs": [
    {
     "data": {
      "text/plain": [
       "array(['Infected', 'Infected', 'Infected', 'Infected', 'Infected',\n",
       "       'Infected', 'Infected', 'Infected', 'Infected', 'Infected',\n",
       "       'Infected', 'Infected', 'Infected', 'Infected', 'Infected',\n",
       "       'Infected', 'Infected', 'Infected', 'Infected', 'Infected',\n",
       "       'Infected', 'Infected', 'Infected', 'Infected', 'Infected',\n",
       "       'Infected', 'Infected', 'Infected', 'Infected', 'Infected',\n",
       "       'Infected', 'Infected', 'Infected', 'Infected', 'Infected',\n",
       "       'Infected', 'Infected', 'Infected', 'Infected', 'Infected',\n",
       "       'Infected', 'Infected', 'Infected', 'Infected', 'Infected',\n",
       "       'Infected', 'Infected', 'Infected', 'Infected', 'Infected',\n",
       "       'Normal', 'Normal', 'Normal', 'Normal', 'Normal', 'Normal',\n",
       "       'Normal', 'Normal', 'Normal', 'Normal', 'Normal', 'Normal',\n",
       "       'Normal', 'Normal', 'Normal', 'Normal', 'Normal', 'Normal',\n",
       "       'Normal', 'Normal', 'Normal', 'Normal', 'Normal', 'Normal',\n",
       "       'Normal', 'Normal', 'Normal', 'Normal', 'Normal', 'Normal',\n",
       "       'Normal', 'Normal', 'Normal', 'Normal', 'Normal', 'Normal',\n",
       "       'Normal', 'Normal', 'Normal', 'Normal', 'Normal', 'Normal',\n",
       "       'Normal', 'Normal', 'Normal', 'Normal', 'Normal', 'Normal',\n",
       "       'Normal', 'Normal'], dtype='<U8')"
      ]
     },
     "execution_count": 27,
     "metadata": {},
     "output_type": "execute_result"
    }
   ],
   "source": [
    "labels"
   ]
  },
  {
   "cell_type": "markdown",
   "metadata": {},
   "source": [
    "# Split data into training and testing sets\n"
   ]
  },
  {
   "cell_type": "code",
   "execution_count": 20,
   "metadata": {},
   "outputs": [],
   "source": [
    "\n",
    "X_train, X_test, y_train, y_test = train_test_split(data, labels, test_size=0.2, random_state=42)"
   ]
  },
  {
   "cell_type": "markdown",
   "metadata": {},
   "source": [
    "# Flatten images\n"
   ]
  },
  {
   "cell_type": "code",
   "execution_count": 24,
   "metadata": {},
   "outputs": [],
   "source": [
    "\n",
    "X_train_flat = X_train.reshape(X_train.shape[0], -1)\n",
    "X_test_flat = X_test.reshape(X_test.shape[0], -1)"
   ]
  },
  {
   "cell_type": "markdown",
   "metadata": {},
   "source": [
    "# Create a KNN classifier\n"
   ]
  },
  {
   "cell_type": "code",
   "execution_count": 21,
   "metadata": {},
   "outputs": [],
   "source": [
    "\n",
    "knn = KNeighborsClassifier()\n",
    "pipeline = Pipeline([('scaler', StandardScaler()),('knn', knn)])\n"
   ]
  },
  {
   "cell_type": "markdown",
   "metadata": {},
   "source": [
    "# Perform grid search\n"
   ]
  },
  {
   "cell_type": "code",
   "execution_count": 33,
   "metadata": {},
   "outputs": [
    {
     "name": "stderr",
     "output_type": "stream",
     "text": [
      "c:\\Users\\ripon\\AppData\\Local\\Programs\\Python\\Python312\\Lib\\site-packages\\sklearn\\model_selection\\_search.py:1051: UserWarning: One or more of the test scores are non-finite: [0.7    0.7    0.675  0.6875 0.725  0.7375 0.7375 0.7375 0.75   0.75\n",
      "    nan 0.725     nan 0.7375    nan 0.7625    nan 0.7625    nan 0.725\n",
      "    nan 0.625     nan 0.6125    nan 0.65      nan 0.6125    nan 0.625 ]\n",
      "  warnings.warn(\n"
     ]
    },
    {
     "name": "stdout",
     "output_type": "stream",
     "text": [
      "Best parameters: {'knn__metric': 'manhattan', 'knn__n_neighbors': 5, 'knn__weights': 'distance'}\n"
     ]
    }
   ],
   "source": [
    "\n",
    "parameters = {\n",
    "    'knn__n_neighbors': [1, 3, 5, 7, 9],  # K values to try\n",
    "    'knn__weights': ['uniform', 'distance'],  # Weighting options\n",
    "    'knn__metric': ['euclidean', 'manhattan', 'chebyshev']  # Distance metrics to try\n",
    "}\n",
    "\n",
    "data = GridSearchCV(pipeline, parameters, cv=5, n_jobs=-1)\n",
    "data.fit(X_train_flat, y_train) \n",
    "\n",
    "print(\"Best parameters:\", data.best_params_)"
   ]
  },
  {
   "cell_type": "markdown",
   "metadata": {},
   "source": [
    "# Predict on the test set\n"
   ]
  },
  {
   "cell_type": "code",
   "execution_count": 34,
   "metadata": {},
   "outputs": [],
   "source": [
    "\n",
    "y_pred = data.predict(X_test_flat)  "
   ]
  },
  {
   "cell_type": "markdown",
   "metadata": {},
   "source": [
    "# Calculate accuracy\n"
   ]
  },
  {
   "cell_type": "code",
   "execution_count": 35,
   "metadata": {},
   "outputs": [
    {
     "name": "stdout",
     "output_type": "stream",
     "text": [
      "Accuracy: 0.7\n"
     ]
    }
   ],
   "source": [
    "\n",
    "accuracy = accuracy_score(y_test, y_pred)\n",
    "print(\"Accuracy:\", accuracy)"
   ]
  },
  {
   "cell_type": "markdown",
   "metadata": {},
   "source": [
    "# Plot confusion matrix\n"
   ]
  },
  {
   "cell_type": "code",
   "execution_count": 36,
   "metadata": {},
   "outputs": [
    {
     "data": {
      "image/png": "[encoded data removed]",
      "text/plain": [
       "<Figure size 640x480 with 2 Axes>"
      ]
     },
     "metadata": {},
     "output_type": "display_data"
    }
   ],
   "source": [
    "\n",
    "cm = confusion_matrix(y_test, y_pred)\n",
    "plt.imshow(cm, cmap=plt.cm.Blues)\n",
    "plt.title(\"Confusion Matrix\")\n",
    "plt.colorbar()\n",
    "plt.xlabel(\"Predicted Label\")\n",
    "plt.ylabel(\"True Label\")\n",
    "plt.show()\n"
   ]
  }
 ],
 "metadata": {
  "kernelspec": {
   "display_name": "Python 3",
   "language": "python",
   "name": "python3"
  },
  "language_info": {
   "codemirror_mode": {
    "name": "ipython",
    "version": 3
   },
   "file_extension": ".py",
   "mimetype": "text/x-python",
   "name": "python",
   "nbconvert_exporter": "python",
   "pygments_lexer": "ipython3",
   "version": "3.12.0"
  }
 },
 "nbformat": 4,
 "nbformat_minor": 2
}
