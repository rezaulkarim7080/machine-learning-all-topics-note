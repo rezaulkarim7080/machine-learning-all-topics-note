{
 "cells": [
  {
   "cell_type": "markdown",
   "metadata": {},
   "source": [
    "## Data Pre Processing part-1\n",
    "\n",
    "## L-03\n"
   ]
  },
  {
   "cell_type": "markdown",
   "metadata": {},
   "source": [
    "### 1.Handling missing value\n",
    "\n",
    "### 2.Imbalance dataset issue\n",
    "\n",
    "### 3. Outliers\n",
    "\n",
    "### 4.converting/Encoding Data(catagorical to numerical)\n",
    "\n",
    "### 5. Duplicte data\n",
    "\n",
    "### 6. Splitting dataset\n",
    "\n",
    "### 7. Scaling data\n",
    "\n",
    "### 8. Featue Engineering\n"
   ]
  },
  {
   "cell_type": "markdown",
   "metadata": {},
   "source": [
    "#### Part-1 Loading dataset from google drive and displaying dataset\n"
   ]
  },
  {
   "cell_type": "code",
   "execution_count": 27,
   "metadata": {},
   "outputs": [
    {
     "data": {
      "text/html": [
       "<div>\n",
       "<style scoped>\n",
       "    .dataframe tbody tr th:only-of-type {\n",
       "        vertical-align: middle;\n",
       "    }\n",
       "\n",
       "    .dataframe tbody tr th {\n",
       "        vertical-align: top;\n",
       "    }\n",
       "\n",
       "    .dataframe thead th {\n",
       "        text-align: right;\n",
       "    }\n",
       "</style>\n",
       "<table border=\"1\" class=\"dataframe\">\n",
       "  <thead>\n",
       "    <tr style=\"text-align: right;\">\n",
       "      <th></th>\n",
       "      <th>Pregnancies</th>\n",
       "      <th>Glucose</th>\n",
       "      <th>BloodPressure</th>\n",
       "      <th>SkinThickness</th>\n",
       "      <th>Insulin</th>\n",
       "      <th>BMI</th>\n",
       "      <th>DiabetesPedigreeFunction</th>\n",
       "      <th>Outcome</th>\n",
       "      <th>Age</th>\n",
       "      <th>Gender</th>\n",
       "      <th>Weekness</th>\n",
       "    </tr>\n",
       "  </thead>\n",
       "  <tbody>\n",
       "    <tr>\n",
       "      <th>0</th>\n",
       "      <td>6</td>\n",
       "      <td>148</td>\n",
       "      <td>72</td>\n",
       "      <td>35</td>\n",
       "      <td>0</td>\n",
       "      <td>33.6</td>\n",
       "      <td>0.627</td>\n",
       "      <td>1</td>\n",
       "      <td>10.0</td>\n",
       "      <td>Male</td>\n",
       "      <td>Yes</td>\n",
       "    </tr>\n",
       "    <tr>\n",
       "      <th>1</th>\n",
       "      <td>1</td>\n",
       "      <td>85</td>\n",
       "      <td>66</td>\n",
       "      <td>29</td>\n",
       "      <td>0</td>\n",
       "      <td>26.6</td>\n",
       "      <td>0.351</td>\n",
       "      <td>0</td>\n",
       "      <td>11.0</td>\n",
       "      <td>Female</td>\n",
       "      <td>No</td>\n",
       "    </tr>\n",
       "    <tr>\n",
       "      <th>2</th>\n",
       "      <td>8</td>\n",
       "      <td>183</td>\n",
       "      <td>64</td>\n",
       "      <td>0</td>\n",
       "      <td>0</td>\n",
       "      <td>23.3</td>\n",
       "      <td>0.672</td>\n",
       "      <td>1</td>\n",
       "      <td>12.0</td>\n",
       "      <td>male</td>\n",
       "      <td>No</td>\n",
       "    </tr>\n",
       "    <tr>\n",
       "      <th>3</th>\n",
       "      <td>1</td>\n",
       "      <td>89</td>\n",
       "      <td>66</td>\n",
       "      <td>23</td>\n",
       "      <td>94</td>\n",
       "      <td>28.1</td>\n",
       "      <td>0.167</td>\n",
       "      <td>0</td>\n",
       "      <td>13.0</td>\n",
       "      <td>Male</td>\n",
       "      <td>Yes</td>\n",
       "    </tr>\n",
       "    <tr>\n",
       "      <th>4</th>\n",
       "      <td>0</td>\n",
       "      <td>137</td>\n",
       "      <td>40</td>\n",
       "      <td>35</td>\n",
       "      <td>168</td>\n",
       "      <td>43.1</td>\n",
       "      <td>2.288</td>\n",
       "      <td>1</td>\n",
       "      <td>14.0</td>\n",
       "      <td>Female</td>\n",
       "      <td>Yes</td>\n",
       "    </tr>\n",
       "  </tbody>\n",
       "</table>\n",
       "</div>"
      ],
      "text/plain": [
       "   Pregnancies  Glucose  BloodPressure  SkinThickness  Insulin   BMI  \\\n",
       "0            6      148             72             35        0  33.6   \n",
       "1            1       85             66             29        0  26.6   \n",
       "2            8      183             64              0        0  23.3   \n",
       "3            1       89             66             23       94  28.1   \n",
       "4            0      137             40             35      168  43.1   \n",
       "\n",
       "   DiabetesPedigreeFunction  Outcome   Age  Gender Weekness  \n",
       "0                     0.627        1  10.0    Male      Yes  \n",
       "1                     0.351        0  11.0  Female       No  \n",
       "2                     0.672        1  12.0    male       No  \n",
       "3                     0.167        0  13.0    Male      Yes  \n",
       "4                     2.288        1  14.0  Female      Yes  "
      ]
     },
     "execution_count": 27,
     "metadata": {},
     "output_type": "execute_result"
    }
   ],
   "source": [
    "import pandas as pd\n",
    "\n",
    "df = pd.read_csv(\"diabetes.csv\")\n",
    "\n",
    "# df.head(5) # first 5 rows\n",
    "\n",
    "# df.tail() # last  5 rows\n",
    "\n",
    "# df[80:85]  # split data\n",
    "\n",
    "# df[\"Gender\"] # only the venue column\n",
    "\n",
    "# df[\"Gender\"].head(5) # first 5 samples of the column venue\n",
    "\n",
    "# df.loc[(df.Gender == \"Male\")] # all male informations\n",
    "\n",
    "# df.loc[(df.Gender == \"Male\") & (df.Age  == \"60\")] \n",
    "\n",
    "# df.iloc[[0,5]] #print only 0 and 5 index \n",
    "\n",
    "# df.iloc[[0,1,2,3,4,5]] #print 0,1,2,3,4,5 index \n",
    "\n",
    "# df.iloc[[0:5]] #print  0 to  5 index \n",
    "\n",
    "# df[\"Gender\"].iloc[100:200] # print only venue column from index 100 to 200\n",
    "\n",
    "# df.columns\n",
    "\n",
    "# len(df)\n",
    "\n",
    "\n",
    "df.head(5)"
   ]
  },
  {
   "cell_type": "markdown",
   "metadata": {},
   "source": [
    "#### Part-2 Handling Missing valuew\n"
   ]
  },
  {
   "cell_type": "code",
   "execution_count": 29,
   "metadata": {},
   "outputs": [
    {
     "data": {
      "text/plain": [
       "Pregnancies                 0\n",
       "Glucose                     0\n",
       "BloodPressure               0\n",
       "SkinThickness               0\n",
       "Insulin                     0\n",
       "BMI                         0\n",
       "DiabetesPedigreeFunction    0\n",
       "Outcome                     0\n",
       "Age                         2\n",
       "Gender                      2\n",
       "Weekness                    6\n",
       "dtype: int64"
      ]
     },
     "execution_count": 29,
     "metadata": {},
     "output_type": "execute_result"
    }
   ],
   "source": [
    "import pandas as pd\n",
    "\n",
    "df = pd.read_csv(\"diabetes.csv\")\n",
    "\n",
    "# df.isnull()\n",
    "\n",
    "df.isnull().sum()\n",
    "\n",
    "# df.info()\n",
    "\n",
    "# df.describe()\n",
    "\n",
    "# df1 = df\n",
    "# df2 = df\n",
    "# df3 = df"
   ]
  },
  {
   "cell_type": "markdown",
   "metadata": {},
   "source": [
    "#### Dropping the entire row that has the missing value\n"
   ]
  },
  {
   "cell_type": "code",
   "execution_count": 30,
   "metadata": {},
   "outputs": [
    {
     "data": {
      "text/plain": [
       "Pregnancies                 0\n",
       "Glucose                     0\n",
       "BloodPressure               0\n",
       "SkinThickness               0\n",
       "Insulin                     0\n",
       "BMI                         0\n",
       "DiabetesPedigreeFunction    0\n",
       "Outcome                     0\n",
       "Age                         0\n",
       "Gender                      0\n",
       "Weekness                    0\n",
       "dtype: int64"
      ]
     },
     "execution_count": 30,
     "metadata": {},
     "output_type": "execute_result"
    }
   ],
   "source": [
    "import pandas as pd\n",
    "\n",
    "df = pd.read_csv(\"diabetes.csv\")\n",
    "df1 = df\n",
    "\n",
    "df1.dropna(subset=[\"Age\"],inplace=True)# drop the row where value is null\n",
    "\n",
    "df1.dropna(subset=[\"Gender\"],inplace=True)\n",
    "\n",
    "df1.dropna(subset=[\"Weekness\"],inplace=True)\n",
    "\n",
    "df.isnull().sum()\n",
    "\n",
    "# len(df1)"
   ]
  },
  {
   "cell_type": "markdown",
   "metadata": {},
   "source": [
    "##### Don't Drop .Now we will put some value in the null Place for numeric null value it can be the mean/median/mode of the column and for the categorical value it can be the most frequent value of hte column\n"
   ]
  },
  {
   "cell_type": "code",
   "execution_count": 31,
   "metadata": {},
   "outputs": [],
   "source": [
    "import pandas as pd\n",
    "\n",
    "df = pd.read_csv(\"diabetes.csv\")\n",
    "df2 = df\n",
    "\n",
    "#---numeric value it can be the most frequent value of mean/median/mode ----------\n",
    "\n",
    "df2[\"Age\"] = df2[\"Age\"].fillna(df2[\"Age\"].mean()) #replace by mean \n",
    "\n",
    "df2[\"Age\"] = df2[\"Age\"].fillna(df2[\"Age\"].median()) # replace by median\n",
    "\n"
   ]
  },
  {
   "cell_type": "code",
   "execution_count": 32,
   "metadata": {},
   "outputs": [],
   "source": [
    "#---categorical value it can be the most frequent value of hte column ----------\n",
    "\n",
    "most_frequent_category = df2['Gender'].mode().iloc[0]\n",
    "df2[\"Gender\"].fillna(most_frequent_category,inplace=True)"
   ]
  },
  {
   "cell_type": "code",
   "execution_count": 33,
   "metadata": {},
   "outputs": [
    {
     "data": {
      "text/html": [
       "<div>\n",
       "<style scoped>\n",
       "    .dataframe tbody tr th:only-of-type {\n",
       "        vertical-align: middle;\n",
       "    }\n",
       "\n",
       "    .dataframe tbody tr th {\n",
       "        vertical-align: top;\n",
       "    }\n",
       "\n",
       "    .dataframe thead th {\n",
       "        text-align: right;\n",
       "    }\n",
       "</style>\n",
       "<table border=\"1\" class=\"dataframe\">\n",
       "  <thead>\n",
       "    <tr style=\"text-align: right;\">\n",
       "      <th></th>\n",
       "      <th>Pregnancies</th>\n",
       "      <th>Glucose</th>\n",
       "      <th>BloodPressure</th>\n",
       "      <th>SkinThickness</th>\n",
       "      <th>Insulin</th>\n",
       "      <th>BMI</th>\n",
       "      <th>DiabetesPedigreeFunction</th>\n",
       "      <th>Outcome</th>\n",
       "      <th>Age</th>\n",
       "      <th>Gender</th>\n",
       "      <th>Weekness</th>\n",
       "    </tr>\n",
       "  </thead>\n",
       "  <tbody>\n",
       "    <tr>\n",
       "      <th>0</th>\n",
       "      <td>6</td>\n",
       "      <td>148</td>\n",
       "      <td>72</td>\n",
       "      <td>35</td>\n",
       "      <td>0</td>\n",
       "      <td>33.6</td>\n",
       "      <td>0.627</td>\n",
       "      <td>1</td>\n",
       "      <td>10.0</td>\n",
       "      <td>Male</td>\n",
       "      <td>Yes</td>\n",
       "    </tr>\n",
       "    <tr>\n",
       "      <th>1</th>\n",
       "      <td>1</td>\n",
       "      <td>85</td>\n",
       "      <td>66</td>\n",
       "      <td>29</td>\n",
       "      <td>0</td>\n",
       "      <td>26.6</td>\n",
       "      <td>0.351</td>\n",
       "      <td>0</td>\n",
       "      <td>11.0</td>\n",
       "      <td>Female</td>\n",
       "      <td>No</td>\n",
       "    </tr>\n",
       "    <tr>\n",
       "      <th>2</th>\n",
       "      <td>8</td>\n",
       "      <td>183</td>\n",
       "      <td>64</td>\n",
       "      <td>0</td>\n",
       "      <td>0</td>\n",
       "      <td>23.3</td>\n",
       "      <td>0.672</td>\n",
       "      <td>1</td>\n",
       "      <td>12.0</td>\n",
       "      <td>male</td>\n",
       "      <td>No</td>\n",
       "    </tr>\n",
       "    <tr>\n",
       "      <th>3</th>\n",
       "      <td>1</td>\n",
       "      <td>89</td>\n",
       "      <td>66</td>\n",
       "      <td>23</td>\n",
       "      <td>94</td>\n",
       "      <td>28.1</td>\n",
       "      <td>0.167</td>\n",
       "      <td>0</td>\n",
       "      <td>13.0</td>\n",
       "      <td>Male</td>\n",
       "      <td>Yes</td>\n",
       "    </tr>\n",
       "    <tr>\n",
       "      <th>4</th>\n",
       "      <td>0</td>\n",
       "      <td>137</td>\n",
       "      <td>40</td>\n",
       "      <td>35</td>\n",
       "      <td>168</td>\n",
       "      <td>43.1</td>\n",
       "      <td>2.288</td>\n",
       "      <td>1</td>\n",
       "      <td>14.0</td>\n",
       "      <td>Female</td>\n",
       "      <td>Yes</td>\n",
       "    </tr>\n",
       "  </tbody>\n",
       "</table>\n",
       "</div>"
      ],
      "text/plain": [
       "   Pregnancies  Glucose  BloodPressure  SkinThickness  Insulin   BMI  \\\n",
       "0            6      148             72             35        0  33.6   \n",
       "1            1       85             66             29        0  26.6   \n",
       "2            8      183             64              0        0  23.3   \n",
       "3            1       89             66             23       94  28.1   \n",
       "4            0      137             40             35      168  43.1   \n",
       "\n",
       "   DiabetesPedigreeFunction  Outcome   Age  Gender Weekness  \n",
       "0                     0.627        1  10.0    Male      Yes  \n",
       "1                     0.351        0  11.0  Female       No  \n",
       "2                     0.672        1  12.0    male       No  \n",
       "3                     0.167        0  13.0    Male      Yes  \n",
       "4                     2.288        1  14.0  Female      Yes  "
      ]
     },
     "execution_count": 33,
     "metadata": {},
     "output_type": "execute_result"
    }
   ],
   "source": [
    "df2.apply(lambda x:x.fillna(x.value_counts().index[0]))\n",
    "df2.head(5)"
   ]
  },
  {
   "cell_type": "markdown",
   "metadata": {},
   "source": [
    "#### PART-3 Handeling categorical values or encoding\n",
    "\n",
    "##### A . Labelencoding Convert = (object/catagorical to numerical )\n",
    "\n",
    "##### Method-1\n"
   ]
  },
  {
   "cell_type": "code",
   "execution_count": 34,
   "metadata": {},
   "outputs": [
    {
     "name": "stdout",
     "output_type": "stream",
     "text": [
      "<class 'pandas.core.frame.DataFrame'>\n",
      "RangeIndex: 299 entries, 0 to 298\n",
      "Data columns (total 11 columns):\n",
      " #   Column                    Non-Null Count  Dtype\n",
      "---  ------                    --------------  -----\n",
      " 0   Pregnancies               299 non-null    int64\n",
      " 1   Glucose                   299 non-null    int64\n",
      " 2   BloodPressure             299 non-null    int64\n",
      " 3   SkinThickness             299 non-null    int64\n",
      " 4   Insulin                   299 non-null    int64\n",
      " 5   BMI                       299 non-null    int64\n",
      " 6   DiabetesPedigreeFunction  299 non-null    int64\n",
      " 7   Outcome                   299 non-null    int64\n",
      " 8   Age                       299 non-null    int64\n",
      " 9   Gender                    299 non-null    int32\n",
      " 10  Weekness                  299 non-null    int32\n",
      "dtypes: int32(2), int64(9)\n",
      "memory usage: 23.5 KB\n"
     ]
    }
   ],
   "source": [
    "from sklearn.preprocessing import LabelEncoder\n",
    "import pandas as pd\n",
    "\n",
    "df = pd.read_csv(\"diabetes.csv\")\n",
    "\n",
    "le = LabelEncoder()\n",
    "\n",
    "df[\"Pregnancies\"] = le.fit_transform(df[\"Pregnancies\"])\n",
    "df[\"Glucose\"] = le.fit_transform(df[\"Glucose\"])\n",
    "df[\"BloodPressure\"] = le.fit_transform(df[\"BloodPressure\"])\n",
    "df[\"SkinThickness\"] = le.fit_transform(df[\"SkinThickness\"])\n",
    "df[\"Insulin\"] = le.fit_transform(df[\"Insulin\"])\n",
    "df[\"BMI\"] = le.fit_transform(df[\"BMI\"])\n",
    "df[\"DiabetesPedigreeFunction\"] = le.fit_transform(df[\"DiabetesPedigreeFunction\"])\n",
    "df[\"Age\"] = le.fit_transform(df[\"Age\"])\n",
    "df[\"Outcome\"] = le.fit_transform(df[\"Outcome\"])\n",
    "df[\"Weekness\"] = le.fit_transform(df[\"Weekness\"])\n",
    "df[\"Gender\"] = le.fit_transform(df[\"Gender\"])\n",
    "\n",
    "df.info()"
   ]
  },
  {
   "cell_type": "markdown",
   "metadata": {},
   "source": [
    "##### Method-2\n",
    "\n",
    "##### One hot Encoding\n"
   ]
  },
  {
   "cell_type": "code",
   "execution_count": 38,
   "metadata": {},
   "outputs": [
    {
     "name": "stdout",
     "output_type": "stream",
     "text": [
      "<class 'pandas.core.frame.DataFrame'>\n",
      "RangeIndex: 299 entries, 0 to 298\n",
      "Columns: 849 entries, Pregnancies_0 to Weekness_Yes\n",
      "dtypes: bool(849)\n",
      "memory usage: 248.0 KB\n"
     ]
    }
   ],
   "source": [
    "from sklearn.preprocessing import LabelEncoder\n",
    "import pandas as pd\n",
    "\n",
    "df = pd.read_csv(\"diabetes.csv\")\n",
    "le = LabelEncoder()\n",
    "\n",
    "one_hot_encoding_data = pd.get_dummies(df,columns=['Pregnancies','Glucose','BloodPressure','SkinThickness','Insulin','BMI','DiabetesPedigreeFunction','Age','Outcome','Gender','Weekness'])\n",
    "\n",
    "# one_hot_encoding_data\n",
    "\n",
    "one_hot_encoding_data.info()"
   ]
  },
  {
   "cell_type": "markdown",
   "metadata": {},
   "source": [
    "### PART-4 Imbalance dataset Issue\n"
   ]
  },
  {
   "cell_type": "code",
   "execution_count": 39,
   "metadata": {},
   "outputs": [
    {
     "data": {
      "text/html": [
       "<div>\n",
       "<style scoped>\n",
       "    .dataframe tbody tr th:only-of-type {\n",
       "        vertical-align: middle;\n",
       "    }\n",
       "\n",
       "    .dataframe tbody tr th {\n",
       "        vertical-align: top;\n",
       "    }\n",
       "\n",
       "    .dataframe thead th {\n",
       "        text-align: right;\n",
       "    }\n",
       "</style>\n",
       "<table border=\"1\" class=\"dataframe\">\n",
       "  <thead>\n",
       "    <tr style=\"text-align: right;\">\n",
       "      <th></th>\n",
       "      <th>Weekness</th>\n",
       "      <th>Count</th>\n",
       "    </tr>\n",
       "  </thead>\n",
       "  <tbody>\n",
       "    <tr>\n",
       "      <th>0</th>\n",
       "      <td>No</td>\n",
       "      <td>118</td>\n",
       "    </tr>\n",
       "    <tr>\n",
       "      <th>1</th>\n",
       "      <td>Yes</td>\n",
       "      <td>175</td>\n",
       "    </tr>\n",
       "  </tbody>\n",
       "</table>\n",
       "</div>"
      ],
      "text/plain": [
       "  Weekness  Count\n",
       "0       No    118\n",
       "1      Yes    175"
      ]
     },
     "execution_count": 39,
     "metadata": {},
     "output_type": "execute_result"
    }
   ],
   "source": [
    "import pandas as pd\n",
    "\n",
    "\n",
    "df = pd.read_csv(\"diabetes.csv\")\n",
    "\n",
    "# df[\"Weekness\"].unique() # what is the unique values\n",
    "\n",
    "# df[\"Weekness\"].nunique()  # how many unique values?\n",
    "\n",
    "value_counts = df.groupby(\"Weekness\").size().reset_index(name=\"Count\") # find unique value shortcart\n",
    "\n",
    "value_counts"
   ]
  },
  {
   "cell_type": "markdown",
   "metadata": {},
   "source": [
    "##### Undersampling means reducing the major class samples to match minor class samples\n"
   ]
  },
  {
   "cell_type": "code",
   "execution_count": 42,
   "metadata": {},
   "outputs": [
    {
     "name": "stdout",
     "output_type": "stream",
     "text": [
      "118\n",
      "     Pregnancies  Glucose  BloodPressure  SkinThickness  Insulin   BMI  \\\n",
      "1              1       85             66             29        0  26.6   \n",
      "2              8      183             64              0        0  23.3   \n",
      "6              3       78             50             32       88  31.0   \n",
      "7             10      115              0              0        0  35.3   \n",
      "11            10      168             74              0        0  38.0   \n",
      "..           ...      ...            ...            ...      ...   ...   \n",
      "268            0      102             52              0        0  25.1   \n",
      "5              5      116             74              0        0  25.6   \n",
      "275            2      100             70             52       57  40.5   \n",
      "83             0      101             65             28        0  24.6   \n",
      "59             0      105             64             41      142  41.5   \n",
      "\n",
      "     DiabetesPedigreeFunction  Outcome   Age  Gender Weekness  \n",
      "1                       0.351        0  11.0  Female       No  \n",
      "2                       0.672        1  12.0    male       No  \n",
      "6                       0.248        1  16.0    Male       No  \n",
      "7                       0.134        0  17.0  Female       No  \n",
      "11                      0.537        1  21.0    male       No  \n",
      "..                        ...      ...   ...     ...      ...  \n",
      "268                     0.078        0  45.0  Female      Yes  \n",
      "5                       0.201        0  15.0    male      Yes  \n",
      "275                     0.677        0  52.0    male      Yes  \n",
      "83                      0.237        0  93.0    male      Yes  \n",
      "59                      0.173        0  69.0    male      Yes  \n",
      "\n",
      "[236 rows x 11 columns]\n"
     ]
    }
   ],
   "source": [
    "from sklearn.utils import resample\n",
    "import pandas as pd\n",
    "\n",
    "df = pd.read_csv(\"diabetes.csv\")\n",
    "\n",
    "\n",
    "majority_class = df[df[\"Weekness\"] == \"Yes\"]\n",
    "minority_class = df[df[\"Weekness\"] == \"No\"]\n",
    "\n",
    "n_samples = len(minority_class)\n",
    "majority_downsampled = resample(majority_class,replace=False,n_samples = n_samples,random_state=42)\n",
    "\n",
    "balanced_df = pd.concat([minority_class,majority_downsampled])\n",
    "\n",
    "print(n_samples)\n",
    "print(balanced_df)\n"
   ]
  },
  {
   "cell_type": "code",
   "execution_count": 43,
   "metadata": {},
   "outputs": [
    {
     "name": "stdout",
     "output_type": "stream",
     "text": [
      "  Weekness  Count\n",
      "0       No    118\n",
      "1      Yes    118\n"
     ]
    }
   ],
   "source": [
    "value_counts = balanced_df.groupby('Weekness').size().reset_index(name='Count')\n",
    "print(value_counts)"
   ]
  },
  {
   "cell_type": "markdown",
   "metadata": {},
   "source": [
    "#### Oversampleing (SMOTE) : increasing the sample of minor class\n"
   ]
  },
  {
   "cell_type": "code",
   "execution_count": 55,
   "metadata": {},
   "outputs": [
    {
     "ename": "TypeError",
     "evalue": "'<' not supported between instances of 'str' and 'float'",
     "output_type": "error",
     "traceback": [
      "\u001b[1;31m---------------------------------------------------------------------------\u001b[0m",
      "\u001b[1;31mTypeError\u001b[0m                                 Traceback (most recent call last)",
      "Cell \u001b[1;32mIn[55], line 10\u001b[0m\n\u001b[0;32m      7\u001b[0m y\u001b[38;5;241m=\u001b[39m df[\u001b[38;5;124m'\u001b[39m\u001b[38;5;124mWeekness\u001b[39m\u001b[38;5;124m'\u001b[39m]\n\u001b[0;32m      9\u001b[0m smote \u001b[38;5;241m=\u001b[39m SMOTE(random_state\u001b[38;5;241m=\u001b[39m\u001b[38;5;241m42\u001b[39m)\n\u001b[1;32m---> 10\u001b[0m X_resampled,y_resampled \u001b[38;5;241m=\u001b[39msmote\u001b[38;5;241m.\u001b[39mfit_resample(X,y)\n\u001b[0;32m     12\u001b[0m oversampled_df \u001b[38;5;241m=\u001b[39m pd\u001b[38;5;241m.\u001b[39mDataFrame(X_resampled,columns\u001b[38;5;241m=\u001b[39mX\u001b[38;5;241m.\u001b[39mcolumns)\n\u001b[0;32m     13\u001b[0m oversampled_df[\u001b[38;5;124m'\u001b[39m\u001b[38;5;124mWeekness\u001b[39m\u001b[38;5;124m'\u001b[39m] \u001b[38;5;241m=\u001b[39m y_resampled\n",
      "File \u001b[1;32mc:\\Users\\Ripon\\anaconda3\\Lib\\site-packages\\imblearn\\base.py:208\u001b[0m, in \u001b[0;36mBaseSampler.fit_resample\u001b[1;34m(self, X, y)\u001b[0m\n\u001b[0;32m    187\u001b[0m \u001b[38;5;250m\u001b[39m\u001b[38;5;124;03m\"\"\"Resample the dataset.\u001b[39;00m\n\u001b[0;32m    188\u001b[0m \n\u001b[0;32m    189\u001b[0m \u001b[38;5;124;03mParameters\u001b[39;00m\n\u001b[1;32m   (...)\u001b[0m\n\u001b[0;32m    205\u001b[0m \u001b[38;5;124;03m    The corresponding label of `X_resampled`.\u001b[39;00m\n\u001b[0;32m    206\u001b[0m \u001b[38;5;124;03m\"\"\"\u001b[39;00m\n\u001b[0;32m    207\u001b[0m \u001b[38;5;28mself\u001b[39m\u001b[38;5;241m.\u001b[39m_validate_params()\n\u001b[1;32m--> 208\u001b[0m \u001b[38;5;28;01mreturn\u001b[39;00m \u001b[38;5;28msuper\u001b[39m()\u001b[38;5;241m.\u001b[39mfit_resample(X, y)\n",
      "File \u001b[1;32mc:\\Users\\Ripon\\anaconda3\\Lib\\site-packages\\imblearn\\base.py:104\u001b[0m, in \u001b[0;36mSamplerMixin.fit_resample\u001b[1;34m(self, X, y)\u001b[0m\n\u001b[0;32m     83\u001b[0m \u001b[38;5;28;01mdef\u001b[39;00m \u001b[38;5;21mfit_resample\u001b[39m(\u001b[38;5;28mself\u001b[39m, X, y):\n\u001b[0;32m     84\u001b[0m \u001b[38;5;250m    \u001b[39m\u001b[38;5;124;03m\"\"\"Resample the dataset.\u001b[39;00m\n\u001b[0;32m     85\u001b[0m \n\u001b[0;32m     86\u001b[0m \u001b[38;5;124;03m    Parameters\u001b[39;00m\n\u001b[1;32m   (...)\u001b[0m\n\u001b[0;32m    102\u001b[0m \u001b[38;5;124;03m        The corresponding label of `X_resampled`.\u001b[39;00m\n\u001b[0;32m    103\u001b[0m \u001b[38;5;124;03m    \"\"\"\u001b[39;00m\n\u001b[1;32m--> 104\u001b[0m     check_classification_targets(y)\n\u001b[0;32m    105\u001b[0m     arrays_transformer \u001b[38;5;241m=\u001b[39m ArraysTransformer(X, y)\n\u001b[0;32m    106\u001b[0m     X, y, binarize_y \u001b[38;5;241m=\u001b[39m \u001b[38;5;28mself\u001b[39m\u001b[38;5;241m.\u001b[39m_check_X_y(X, y)\n",
      "File \u001b[1;32mc:\\Users\\Ripon\\anaconda3\\Lib\\site-packages\\sklearn\\utils\\multiclass.py:210\u001b[0m, in \u001b[0;36mcheck_classification_targets\u001b[1;34m(y)\u001b[0m\n\u001b[0;32m    198\u001b[0m \u001b[38;5;28;01mdef\u001b[39;00m \u001b[38;5;21mcheck_classification_targets\u001b[39m(y):\n\u001b[0;32m    199\u001b[0m \u001b[38;5;250m    \u001b[39m\u001b[38;5;124;03m\"\"\"Ensure that target y is of a non-regression type.\u001b[39;00m\n\u001b[0;32m    200\u001b[0m \n\u001b[0;32m    201\u001b[0m \u001b[38;5;124;03m    Only the following target types (as defined in type_of_target) are allowed:\u001b[39;00m\n\u001b[1;32m   (...)\u001b[0m\n\u001b[0;32m    208\u001b[0m \u001b[38;5;124;03m        Target values.\u001b[39;00m\n\u001b[0;32m    209\u001b[0m \u001b[38;5;124;03m    \"\"\"\u001b[39;00m\n\u001b[1;32m--> 210\u001b[0m     y_type \u001b[38;5;241m=\u001b[39m type_of_target(y, input_name\u001b[38;5;241m=\u001b[39m\u001b[38;5;124m\"\u001b[39m\u001b[38;5;124my\u001b[39m\u001b[38;5;124m\"\u001b[39m)\n\u001b[0;32m    211\u001b[0m     \u001b[38;5;28;01mif\u001b[39;00m y_type \u001b[38;5;129;01mnot\u001b[39;00m \u001b[38;5;129;01min\u001b[39;00m [\n\u001b[0;32m    212\u001b[0m         \u001b[38;5;124m\"\u001b[39m\u001b[38;5;124mbinary\u001b[39m\u001b[38;5;124m\"\u001b[39m,\n\u001b[0;32m    213\u001b[0m         \u001b[38;5;124m\"\u001b[39m\u001b[38;5;124mmulticlass\u001b[39m\u001b[38;5;124m\"\u001b[39m,\n\u001b[1;32m   (...)\u001b[0m\n\u001b[0;32m    216\u001b[0m         \u001b[38;5;124m\"\u001b[39m\u001b[38;5;124mmultilabel-sequences\u001b[39m\u001b[38;5;124m\"\u001b[39m,\n\u001b[0;32m    217\u001b[0m     ]:\n\u001b[0;32m    218\u001b[0m         \u001b[38;5;28;01mraise\u001b[39;00m \u001b[38;5;167;01mValueError\u001b[39;00m(\u001b[38;5;124m\"\u001b[39m\u001b[38;5;124mUnknown label type: \u001b[39m\u001b[38;5;132;01m%r\u001b[39;00m\u001b[38;5;124m\"\u001b[39m \u001b[38;5;241m%\u001b[39m y_type)\n",
      "File \u001b[1;32mc:\\Users\\Ripon\\anaconda3\\Lib\\site-packages\\sklearn\\utils\\multiclass.py:386\u001b[0m, in \u001b[0;36mtype_of_target\u001b[1;34m(y, input_name)\u001b[0m\n\u001b[0;32m    384\u001b[0m \u001b[38;5;66;03m# Check multiclass\u001b[39;00m\n\u001b[0;32m    385\u001b[0m first_row \u001b[38;5;241m=\u001b[39m y[\u001b[38;5;241m0\u001b[39m] \u001b[38;5;28;01mif\u001b[39;00m \u001b[38;5;129;01mnot\u001b[39;00m issparse(y) \u001b[38;5;28;01melse\u001b[39;00m y\u001b[38;5;241m.\u001b[39mgetrow(\u001b[38;5;241m0\u001b[39m)\u001b[38;5;241m.\u001b[39mdata\n\u001b[1;32m--> 386\u001b[0m \u001b[38;5;28;01mif\u001b[39;00m xp\u001b[38;5;241m.\u001b[39munique_values(y)\u001b[38;5;241m.\u001b[39mshape[\u001b[38;5;241m0\u001b[39m] \u001b[38;5;241m>\u001b[39m \u001b[38;5;241m2\u001b[39m \u001b[38;5;129;01mor\u001b[39;00m (y\u001b[38;5;241m.\u001b[39mndim \u001b[38;5;241m==\u001b[39m \u001b[38;5;241m2\u001b[39m \u001b[38;5;129;01mand\u001b[39;00m \u001b[38;5;28mlen\u001b[39m(first_row) \u001b[38;5;241m>\u001b[39m \u001b[38;5;241m1\u001b[39m):\n\u001b[0;32m    387\u001b[0m     \u001b[38;5;66;03m# [1, 2, 3] or [[1., 2., 3]] or [[1, 2]]\u001b[39;00m\n\u001b[0;32m    388\u001b[0m     \u001b[38;5;28;01mreturn\u001b[39;00m \u001b[38;5;124m\"\u001b[39m\u001b[38;5;124mmulticlass\u001b[39m\u001b[38;5;124m\"\u001b[39m \u001b[38;5;241m+\u001b[39m suffix\n\u001b[0;32m    389\u001b[0m \u001b[38;5;28;01melse\u001b[39;00m:\n",
      "File \u001b[1;32mc:\\Users\\Ripon\\anaconda3\\Lib\\site-packages\\sklearn\\utils\\_array_api.py:84\u001b[0m, in \u001b[0;36m_NumPyApiWrapper.unique_values\u001b[1;34m(self, x)\u001b[0m\n\u001b[0;32m     83\u001b[0m \u001b[38;5;28;01mdef\u001b[39;00m \u001b[38;5;21munique_values\u001b[39m(\u001b[38;5;28mself\u001b[39m, x):\n\u001b[1;32m---> 84\u001b[0m     \u001b[38;5;28;01mreturn\u001b[39;00m numpy\u001b[38;5;241m.\u001b[39munique(x)\n",
      "File \u001b[1;32mc:\\Users\\Ripon\\anaconda3\\Lib\\site-packages\\numpy\\lib\\arraysetops.py:274\u001b[0m, in \u001b[0;36munique\u001b[1;34m(ar, return_index, return_inverse, return_counts, axis, equal_nan)\u001b[0m\n\u001b[0;32m    272\u001b[0m ar \u001b[38;5;241m=\u001b[39m np\u001b[38;5;241m.\u001b[39masanyarray(ar)\n\u001b[0;32m    273\u001b[0m \u001b[38;5;28;01mif\u001b[39;00m axis \u001b[38;5;129;01mis\u001b[39;00m \u001b[38;5;28;01mNone\u001b[39;00m:\n\u001b[1;32m--> 274\u001b[0m     ret \u001b[38;5;241m=\u001b[39m _unique1d(ar, return_index, return_inverse, return_counts, \n\u001b[0;32m    275\u001b[0m                     equal_nan\u001b[38;5;241m=\u001b[39mequal_nan)\n\u001b[0;32m    276\u001b[0m     \u001b[38;5;28;01mreturn\u001b[39;00m _unpack_tuple(ret)\n\u001b[0;32m    278\u001b[0m \u001b[38;5;66;03m# axis was specified and not None\u001b[39;00m\n",
      "File \u001b[1;32mc:\\Users\\Ripon\\anaconda3\\Lib\\site-packages\\numpy\\lib\\arraysetops.py:336\u001b[0m, in \u001b[0;36m_unique1d\u001b[1;34m(ar, return_index, return_inverse, return_counts, equal_nan)\u001b[0m\n\u001b[0;32m    334\u001b[0m     aux \u001b[38;5;241m=\u001b[39m ar[perm]\n\u001b[0;32m    335\u001b[0m \u001b[38;5;28;01melse\u001b[39;00m:\n\u001b[1;32m--> 336\u001b[0m     ar\u001b[38;5;241m.\u001b[39msort()\n\u001b[0;32m    337\u001b[0m     aux \u001b[38;5;241m=\u001b[39m ar\n\u001b[0;32m    338\u001b[0m mask \u001b[38;5;241m=\u001b[39m np\u001b[38;5;241m.\u001b[39mempty(aux\u001b[38;5;241m.\u001b[39mshape, dtype\u001b[38;5;241m=\u001b[39mnp\u001b[38;5;241m.\u001b[39mbool_)\n",
      "\u001b[1;31mTypeError\u001b[0m: '<' not supported between instances of 'str' and 'float'"
     ]
    }
   ],
   "source": [
    "from imblearn.over_sampling import SMOTE\n",
    "import pandas as pd\n",
    "\n",
    "df = pd.read_csv(\"diabetes.csv\")\n",
    "\n",
    "X= df.drop('Weekness',axis=1)\n",
    "y= df['Weekness']\n",
    "\n",
    "smote = SMOTE(random_state=42)\n",
    "X_resampled,y_resampled =smote.fit_resample(X,y)\n",
    "\n",
    "oversampled_df = pd.DataFrame(X_resampled,columns=X.columns)\n",
    "oversampled_df['Weekness'] = y_resampled\n",
    "\n",
    "value_counts = oversampled_df.groupby('Weekness').size().reset_index(name=\"Count\")  #find the shortcrt\n",
    "value_counts"
   ]
  },
  {
   "cell_type": "markdown",
   "metadata": {},
   "source": [
    "### PART-5 Outlier finding and removing\n"
   ]
  },
  {
   "cell_type": "markdown",
   "metadata": {},
   "source": [
    "#### Finding from figure\n"
   ]
  },
  {
   "cell_type": "code",
   "execution_count": 89,
   "metadata": {},
   "outputs": [
    {
     "data": {
      "text/html": [
       "<div>\n",
       "<style scoped>\n",
       "    .dataframe tbody tr th:only-of-type {\n",
       "        vertical-align: middle;\n",
       "    }\n",
       "\n",
       "    .dataframe tbody tr th {\n",
       "        vertical-align: top;\n",
       "    }\n",
       "\n",
       "    .dataframe thead th {\n",
       "        text-align: right;\n",
       "    }\n",
       "</style>\n",
       "<table border=\"1\" class=\"dataframe\">\n",
       "  <thead>\n",
       "    <tr style=\"text-align: right;\">\n",
       "      <th></th>\n",
       "      <th>Restaurant ID</th>\n",
       "      <th>Restaurant Name</th>\n",
       "      <th>Country Code</th>\n",
       "      <th>City</th>\n",
       "      <th>Address</th>\n",
       "      <th>Locality</th>\n",
       "      <th>Locality Verbose</th>\n",
       "      <th>Longitude</th>\n",
       "      <th>Latitude</th>\n",
       "      <th>Cuisines</th>\n",
       "      <th>...</th>\n",
       "      <th>Currency</th>\n",
       "      <th>Has Table booking</th>\n",
       "      <th>Has Online delivery</th>\n",
       "      <th>Is delivering now</th>\n",
       "      <th>Switch to order menu</th>\n",
       "      <th>Price range</th>\n",
       "      <th>Aggregate rating</th>\n",
       "      <th>Rating color</th>\n",
       "      <th>Rating text</th>\n",
       "      <th>Votes</th>\n",
       "    </tr>\n",
       "  </thead>\n",
       "  <tbody>\n",
       "    <tr>\n",
       "      <th>0</th>\n",
       "      <td>6317637</td>\n",
       "      <td>Le Petit Souffle</td>\n",
       "      <td>162</td>\n",
       "      <td>Makati City</td>\n",
       "      <td>Third Floor, Century City Mall, Kalayaan Avenu...</td>\n",
       "      <td>Century City Mall, Poblacion, Makati City</td>\n",
       "      <td>Century City Mall, Poblacion, Makati City, Mak...</td>\n",
       "      <td>121.027535</td>\n",
       "      <td>14.565443</td>\n",
       "      <td>French, Japanese, Desserts</td>\n",
       "      <td>...</td>\n",
       "      <td>Botswana Pula(P)</td>\n",
       "      <td>Yes</td>\n",
       "      <td>No</td>\n",
       "      <td>No</td>\n",
       "      <td>No</td>\n",
       "      <td>3</td>\n",
       "      <td>4.8</td>\n",
       "      <td>Dark Green</td>\n",
       "      <td>Excellent</td>\n",
       "      <td>314</td>\n",
       "    </tr>\n",
       "  </tbody>\n",
       "</table>\n",
       "<p>1 rows × 21 columns</p>\n",
       "</div>"
      ],
      "text/plain": [
       "   Restaurant ID   Restaurant Name  Country Code         City  \\\n",
       "0        6317637  Le Petit Souffle           162  Makati City   \n",
       "\n",
       "                                             Address  \\\n",
       "0  Third Floor, Century City Mall, Kalayaan Avenu...   \n",
       "\n",
       "                                    Locality  \\\n",
       "0  Century City Mall, Poblacion, Makati City   \n",
       "\n",
       "                                    Locality Verbose   Longitude   Latitude  \\\n",
       "0  Century City Mall, Poblacion, Makati City, Mak...  121.027535  14.565443   \n",
       "\n",
       "                     Cuisines  ...          Currency Has Table booking  \\\n",
       "0  French, Japanese, Desserts  ...  Botswana Pula(P)               Yes   \n",
       "\n",
       "  Has Online delivery Is delivering now Switch to order menu Price range  \\\n",
       "0                  No                No                   No           3   \n",
       "\n",
       "   Aggregate rating  Rating color Rating text Votes  \n",
       "0               4.8    Dark Green   Excellent   314  \n",
       "\n",
       "[1 rows x 21 columns]"
      ]
     },
     "execution_count": 89,
     "metadata": {},
     "output_type": "execute_result"
    }
   ],
   "source": [
    "import pandas as pd\n",
    "df = pd.read_csv('zomato.csv',encoding='latin-1') # font style\n",
    "df.head(1)"
   ]
  },
  {
   "cell_type": "code",
   "execution_count": 2,
   "metadata": {},
   "outputs": [
    {
     "name": "stderr",
     "output_type": "stream",
     "text": [
      "c:\\Users\\ripon\\AppData\\Local\\Programs\\Python\\Python312\\Lib\\site-packages\\seaborn\\_oldcore.py:1498: FutureWarning: is_categorical_dtype is deprecated and will be removed in a future version. Use isinstance(dtype, CategoricalDtype) instead\n",
      "  if pd.api.types.is_categorical_dtype(vector):\n",
      "c:\\Users\\ripon\\AppData\\Local\\Programs\\Python\\Python312\\Lib\\site-packages\\seaborn\\_oldcore.py:1119: FutureWarning: use_inf_as_na option is deprecated and will be removed in a future version. Convert inf values to NaN before operating instead.\n",
      "  with pd.option_context('mode.use_inf_as_na', True):\n"
     ]
    },
    {
     "data": {
      "text/plain": [
       "<seaborn.axisgrid.FacetGrid at 0x2c86aea6ea0>"
      ]
     },
     "execution_count": 2,
     "metadata": {},
     "output_type": "execute_result"
    },
    {
     "data": {
      "image/png": "[encoded data removed]",
      "text/plain": [
       "<Figure size 500x500 with 1 Axes>"
      ]
     },
     "metadata": {},
     "output_type": "display_data"
    }
   ],
   "source": [
    "import pandas as pd\n",
    "import matplotlib.pyplot as plt\n",
    "import seaborn as sns\n",
    "\n",
    "df = pd.read_csv('zomato.csv',encoding='latin-1') # font style\n",
    "\n",
    "sns.set_theme(color_codes=\"red\")\n",
    "sns.displot(data=df[\"Votes\"]).set(title=\"Distribution of Votes\", xlabel= \"Votes\")\n",
    "\n"
   ]
  },
  {
   "cell_type": "markdown",
   "metadata": {},
   "source": [
    "#### By finding Z-score approach[-3 to 3]\n"
   ]
  },
  {
   "cell_type": "code",
   "execution_count": 107,
   "metadata": {},
   "outputs": [],
   "source": [
    "import pandas as pd\n",
    "\n",
    "df = pd.read_csv('aug_train.csv') # font style\n",
    "# df.head(1)"
   ]
  },
  {
   "cell_type": "code",
   "execution_count": null,
   "metadata": {},
   "outputs": [],
   "source": [
    "import pandas as pd\n",
    "\n",
    "df = pd.read_csv('aug_train.csv') # font style\n",
    "\n",
    "z_score =(df[\"training_hours\"] - df[\"training_hours\"].mean())/df['training_hours'].std()\n",
    "\n",
    "# z_score\n",
    "\n",
    "# for i in z_score:\n",
    "#     if i<-3:\n",
    "#         print(\"yout have outlier\", i)\n",
    "#     elif i > 3:\n",
    "#         print(\"yout have outlier\",i)        \n",
    "#     else:\n",
    "#         continue\n",
    "            \n"
   ]
  },
  {
   "cell_type": "code",
   "execution_count": null,
   "metadata": {},
   "outputs": [],
   "source": [
    "index = z_score.index[z_score == 1.026218][0]\n",
    "\n",
    "index"
   ]
  },
  {
   "cell_type": "code",
   "execution_count": null,
   "metadata": {},
   "outputs": [],
   "source": [
    "df[\"training_hours\"][4] # find the index where the outlier is \n",
    "\n",
    "df[\"training_hours\"][4] = df[\"training_hours\"].mean() # find the exact value of the index\n",
    "\n",
    "\n",
    "df[\"training_hours\"][4] # check if the value is updated or not"
   ]
  },
  {
   "cell_type": "markdown",
   "metadata": {},
   "source": [
    "### Part-6 Handling duplicate samples\n"
   ]
  },
  {
   "cell_type": "code",
   "execution_count": 19,
   "metadata": {},
   "outputs": [],
   "source": [
    "import pandas as pd\n",
    "import matplotlib.pyplot as plt\n",
    "import seaborn as sns"
   ]
  },
  {
   "cell_type": "code",
   "execution_count": 13,
   "metadata": {},
   "outputs": [],
   "source": [
    "df = pd.read_csv('weight-height.csv')"
   ]
  },
  {
   "cell_type": "code",
   "execution_count": 14,
   "metadata": {},
   "outputs": [
    {
     "data": {
      "text/html": [
       "<div>\n",
       "<style scoped>\n",
       "    .dataframe tbody tr th:only-of-type {\n",
       "        vertical-align: middle;\n",
       "    }\n",
       "\n",
       "    .dataframe tbody tr th {\n",
       "        vertical-align: top;\n",
       "    }\n",
       "\n",
       "    .dataframe thead th {\n",
       "        text-align: right;\n",
       "    }\n",
       "</style>\n",
       "<table border=\"1\" class=\"dataframe\">\n",
       "  <thead>\n",
       "    <tr style=\"text-align: right;\">\n",
       "      <th></th>\n",
       "      <th>Gender</th>\n",
       "      <th>Height</th>\n",
       "      <th>Weight</th>\n",
       "    </tr>\n",
       "  </thead>\n",
       "  <tbody>\n",
       "  </tbody>\n",
       "</table>\n",
       "</div>"
      ],
      "text/plain": [
       "Empty DataFrame\n",
       "Columns: [Gender, Height, Weight]\n",
       "Index: []"
      ]
     },
     "execution_count": 14,
     "metadata": {},
     "output_type": "execute_result"
    }
   ],
   "source": [
    "duplicates = df[df.duplicated(keep='first')] # find the duplicates\n",
    "duplicates\n",
    "\n",
    "df_no_duplicates = df.drop_duplicates() # drop the duplicates\n",
    "\n",
    "duplicates = df_no_duplicates[df_no_duplicates.duplicated(keep='first')] # recheck if there any duplicates reaming\n",
    "duplicates"
   ]
  },
  {
   "cell_type": "markdown",
   "metadata": {},
   "source": [
    "######\n"
   ]
  },
  {
   "cell_type": "markdown",
   "metadata": {},
   "source": [
    "#### Part-7 : Feature Engineering\n"
   ]
  },
  {
   "cell_type": "code",
   "execution_count": 18,
   "metadata": {},
   "outputs": [
    {
     "data": {
      "image/png": "[encoded data removed]",
      "text/plain": [
       "<Figure size 2000x2000 with 2 Axes>"
      ]
     },
     "metadata": {},
     "output_type": "display_data"
    }
   ],
   "source": [
    "import pandas as pd\n",
    "import matplotlib.pyplot as plt\n",
    "import seaborn as sns\n",
    "\n",
    "\n",
    "df = pd.read_csv('aug_train.csv') # font style\n",
    "\n",
    "\n",
    "# Drop non-numeric columns\n",
    "df_no_duplicates_numeric = df_no_duplicates.select_dtypes(include=['float64', 'int64'])\n",
    "\n",
    "# Now compute the correlation matrix\n",
    "correlation_matrix = df_no_duplicates_numeric.corr(method='pearson')\n",
    "\n",
    "# Plot heatmap\n",
    "sns.set(font_scale=2)\n",
    "plt.subplots(figsize=(20, 20))\n",
    "# Plot heatmap with corrected colormap\n",
    "heat_plot = sns.heatmap(correlation_matrix, annot=True, cmap=\"RdYlGn\", annot_kws={'size': 20})\n",
    "\n",
    "plt.yticks(fontsize=35)\n",
    "plt.xticks(fontsize=35)\n",
    "plt.show()\n"
   ]
  },
  {
   "cell_type": "markdown",
   "metadata": {},
   "source": [
    "#### Part-7 : Separating feature and target\n"
   ]
  },
  {
   "cell_type": "code",
   "execution_count": 21,
   "metadata": {},
   "outputs": [
    {
     "data": {
      "text/html": [
       "<div>\n",
       "<style scoped>\n",
       "    .dataframe tbody tr th:only-of-type {\n",
       "        vertical-align: middle;\n",
       "    }\n",
       "\n",
       "    .dataframe tbody tr th {\n",
       "        vertical-align: top;\n",
       "    }\n",
       "\n",
       "    .dataframe thead th {\n",
       "        text-align: right;\n",
       "    }\n",
       "</style>\n",
       "<table border=\"1\" class=\"dataframe\">\n",
       "  <thead>\n",
       "    <tr style=\"text-align: right;\">\n",
       "      <th></th>\n",
       "      <th>Gender</th>\n",
       "      <th>Height</th>\n",
       "      <th>Weight</th>\n",
       "    </tr>\n",
       "  </thead>\n",
       "  <tbody>\n",
       "    <tr>\n",
       "      <th>0</th>\n",
       "      <td>Male</td>\n",
       "      <td>73.847017</td>\n",
       "      <td>241.893563</td>\n",
       "    </tr>\n",
       "    <tr>\n",
       "      <th>1</th>\n",
       "      <td>Male</td>\n",
       "      <td>68.781904</td>\n",
       "      <td>162.310473</td>\n",
       "    </tr>\n",
       "    <tr>\n",
       "      <th>2</th>\n",
       "      <td>Male</td>\n",
       "      <td>74.110105</td>\n",
       "      <td>212.740856</td>\n",
       "    </tr>\n",
       "    <tr>\n",
       "      <th>3</th>\n",
       "      <td>Male</td>\n",
       "      <td>71.730978</td>\n",
       "      <td>220.042470</td>\n",
       "    </tr>\n",
       "    <tr>\n",
       "      <th>4</th>\n",
       "      <td>Male</td>\n",
       "      <td>69.881796</td>\n",
       "      <td>206.349801</td>\n",
       "    </tr>\n",
       "    <tr>\n",
       "      <th>...</th>\n",
       "      <td>...</td>\n",
       "      <td>...</td>\n",
       "      <td>...</td>\n",
       "    </tr>\n",
       "    <tr>\n",
       "      <th>9995</th>\n",
       "      <td>Female</td>\n",
       "      <td>66.172652</td>\n",
       "      <td>136.777454</td>\n",
       "    </tr>\n",
       "    <tr>\n",
       "      <th>9996</th>\n",
       "      <td>Female</td>\n",
       "      <td>67.067155</td>\n",
       "      <td>170.867906</td>\n",
       "    </tr>\n",
       "    <tr>\n",
       "      <th>9997</th>\n",
       "      <td>Female</td>\n",
       "      <td>63.867992</td>\n",
       "      <td>128.475319</td>\n",
       "    </tr>\n",
       "    <tr>\n",
       "      <th>9998</th>\n",
       "      <td>Female</td>\n",
       "      <td>69.034243</td>\n",
       "      <td>163.852461</td>\n",
       "    </tr>\n",
       "    <tr>\n",
       "      <th>9999</th>\n",
       "      <td>Female</td>\n",
       "      <td>61.944246</td>\n",
       "      <td>113.649103</td>\n",
       "    </tr>\n",
       "  </tbody>\n",
       "</table>\n",
       "<p>10000 rows × 3 columns</p>\n",
       "</div>"
      ],
      "text/plain": [
       "      Gender     Height      Weight\n",
       "0       Male  73.847017  241.893563\n",
       "1       Male  68.781904  162.310473\n",
       "2       Male  74.110105  212.740856\n",
       "3       Male  71.730978  220.042470\n",
       "4       Male  69.881796  206.349801\n",
       "...      ...        ...         ...\n",
       "9995  Female  66.172652  136.777454\n",
       "9996  Female  67.067155  170.867906\n",
       "9997  Female  63.867992  128.475319\n",
       "9998  Female  69.034243  163.852461\n",
       "9999  Female  61.944246  113.649103\n",
       "\n",
       "[10000 rows x 3 columns]"
      ]
     },
     "execution_count": 21,
     "metadata": {},
     "output_type": "execute_result"
    }
   ],
   "source": [
    "df_no_duplicates"
   ]
  },
  {
   "cell_type": "code",
   "execution_count": 20,
   "metadata": {},
   "outputs": [],
   "source": [
    "from sklearn.utils import shuffle"
   ]
  },
  {
   "cell_type": "code",
   "execution_count": 25,
   "metadata": {},
   "outputs": [
    {
     "data": {
      "text/html": [
       "<div>\n",
       "<style scoped>\n",
       "    .dataframe tbody tr th:only-of-type {\n",
       "        vertical-align: middle;\n",
       "    }\n",
       "\n",
       "    .dataframe tbody tr th {\n",
       "        vertical-align: top;\n",
       "    }\n",
       "\n",
       "    .dataframe thead th {\n",
       "        text-align: right;\n",
       "    }\n",
       "</style>\n",
       "<table border=\"1\" class=\"dataframe\">\n",
       "  <thead>\n",
       "    <tr style=\"text-align: right;\">\n",
       "      <th></th>\n",
       "      <th>Gender</th>\n",
       "      <th>Height</th>\n",
       "      <th>Weight</th>\n",
       "    </tr>\n",
       "  </thead>\n",
       "  <tbody>\n",
       "    <tr>\n",
       "      <th>3337</th>\n",
       "      <td>Male</td>\n",
       "      <td>68.633157</td>\n",
       "      <td>193.937299</td>\n",
       "    </tr>\n",
       "    <tr>\n",
       "      <th>2677</th>\n",
       "      <td>Male</td>\n",
       "      <td>70.815880</td>\n",
       "      <td>186.597896</td>\n",
       "    </tr>\n",
       "    <tr>\n",
       "      <th>1503</th>\n",
       "      <td>Male</td>\n",
       "      <td>63.664688</td>\n",
       "      <td>160.125909</td>\n",
       "    </tr>\n",
       "    <tr>\n",
       "      <th>1326</th>\n",
       "      <td>Male</td>\n",
       "      <td>71.026543</td>\n",
       "      <td>186.229238</td>\n",
       "    </tr>\n",
       "    <tr>\n",
       "      <th>3858</th>\n",
       "      <td>Male</td>\n",
       "      <td>69.078707</td>\n",
       "      <td>204.244873</td>\n",
       "    </tr>\n",
       "  </tbody>\n",
       "</table>\n",
       "</div>"
      ],
      "text/plain": [
       "     Gender     Height      Weight\n",
       "3337   Male  68.633157  193.937299\n",
       "2677   Male  70.815880  186.597896\n",
       "1503   Male  63.664688  160.125909\n",
       "1326   Male  71.026543  186.229238\n",
       "3858   Male  69.078707  204.244873"
      ]
     },
     "execution_count": 25,
     "metadata": {},
     "output_type": "execute_result"
    }
   ],
   "source": [
    "shuffled_df = shuffle(df_no_duplicates)\n",
    "shuffled_df.sample(5)"
   ]
  },
  {
   "cell_type": "code",
   "execution_count": 26,
   "metadata": {},
   "outputs": [
    {
     "data": {
      "text/html": [
       "<div>\n",
       "<style scoped>\n",
       "    .dataframe tbody tr th:only-of-type {\n",
       "        vertical-align: middle;\n",
       "    }\n",
       "\n",
       "    .dataframe tbody tr th {\n",
       "        vertical-align: top;\n",
       "    }\n",
       "\n",
       "    .dataframe thead th {\n",
       "        text-align: right;\n",
       "    }\n",
       "</style>\n",
       "<table border=\"1\" class=\"dataframe\">\n",
       "  <thead>\n",
       "    <tr style=\"text-align: right;\">\n",
       "      <th></th>\n",
       "      <th>Gender</th>\n",
       "      <th>Height</th>\n",
       "      <th>Weight</th>\n",
       "    </tr>\n",
       "  </thead>\n",
       "  <tbody>\n",
       "    <tr>\n",
       "      <th>6736</th>\n",
       "      <td>Female</td>\n",
       "      <td>68.991691</td>\n",
       "      <td>183.638580</td>\n",
       "    </tr>\n",
       "    <tr>\n",
       "      <th>9844</th>\n",
       "      <td>Male</td>\n",
       "      <td>67.193523</td>\n",
       "      <td>183.810973</td>\n",
       "    </tr>\n",
       "    <tr>\n",
       "      <th>3905</th>\n",
       "      <td>Female</td>\n",
       "      <td>62.021163</td>\n",
       "      <td>136.013539</td>\n",
       "    </tr>\n",
       "    <tr>\n",
       "      <th>6364</th>\n",
       "      <td>Male</td>\n",
       "      <td>67.724182</td>\n",
       "      <td>176.269148</td>\n",
       "    </tr>\n",
       "    <tr>\n",
       "      <th>2687</th>\n",
       "      <td>Female</td>\n",
       "      <td>71.552205</td>\n",
       "      <td>185.658271</td>\n",
       "    </tr>\n",
       "  </tbody>\n",
       "</table>\n",
       "</div>"
      ],
      "text/plain": [
       "      Gender     Height      Weight\n",
       "6736  Female  68.991691  183.638580\n",
       "9844    Male  67.193523  183.810973\n",
       "3905  Female  62.021163  136.013539\n",
       "6364    Male  67.724182  176.269148\n",
       "2687  Female  71.552205  185.658271"
      ]
     },
     "execution_count": 26,
     "metadata": {},
     "output_type": "execute_result"
    }
   ],
   "source": [
    "rearranged_df = shuffled_df.reset_index(drop=True)\n",
    "rearranged_df.sample(5)"
   ]
  },
  {
   "cell_type": "code",
   "execution_count": 27,
   "metadata": {},
   "outputs": [
    {
     "data": {
      "text/html": [
       "<div>\n",
       "<style scoped>\n",
       "    .dataframe tbody tr th:only-of-type {\n",
       "        vertical-align: middle;\n",
       "    }\n",
       "\n",
       "    .dataframe tbody tr th {\n",
       "        vertical-align: top;\n",
       "    }\n",
       "\n",
       "    .dataframe thead th {\n",
       "        text-align: right;\n",
       "    }\n",
       "</style>\n",
       "<table border=\"1\" class=\"dataframe\">\n",
       "  <thead>\n",
       "    <tr style=\"text-align: right;\">\n",
       "      <th></th>\n",
       "      <th>Height</th>\n",
       "      <th>Weight</th>\n",
       "    </tr>\n",
       "  </thead>\n",
       "  <tbody>\n",
       "    <tr>\n",
       "      <th>6852</th>\n",
       "      <td>65.394498</td>\n",
       "      <td>146.209595</td>\n",
       "    </tr>\n",
       "    <tr>\n",
       "      <th>3705</th>\n",
       "      <td>65.099636</td>\n",
       "      <td>180.793711</td>\n",
       "    </tr>\n",
       "    <tr>\n",
       "      <th>3623</th>\n",
       "      <td>65.883759</td>\n",
       "      <td>131.625265</td>\n",
       "    </tr>\n",
       "    <tr>\n",
       "      <th>7283</th>\n",
       "      <td>66.695309</td>\n",
       "      <td>155.128965</td>\n",
       "    </tr>\n",
       "    <tr>\n",
       "      <th>9562</th>\n",
       "      <td>71.778729</td>\n",
       "      <td>195.024269</td>\n",
       "    </tr>\n",
       "  </tbody>\n",
       "</table>\n",
       "</div>"
      ],
      "text/plain": [
       "         Height      Weight\n",
       "6852  65.394498  146.209595\n",
       "3705  65.099636  180.793711\n",
       "3623  65.883759  131.625265\n",
       "7283  66.695309  155.128965\n",
       "9562  71.778729  195.024269"
      ]
     },
     "execution_count": 27,
     "metadata": {},
     "output_type": "execute_result"
    }
   ],
   "source": [
    "x = rearranged_df.drop(columns=['Gender'])\n",
    "x.sample(5)"
   ]
  },
  {
   "cell_type": "code",
   "execution_count": null,
   "metadata": {},
   "outputs": [],
   "source": [
    "y = rearranged_df(columns=['Gender'])\n",
    "y"
   ]
  },
  {
   "cell_type": "markdown",
   "metadata": {},
   "source": [
    "## Part-8 : Scaling Data (Train and test dataset)\n"
   ]
  },
  {
   "cell_type": "code",
   "execution_count": 31,
   "metadata": {},
   "outputs": [],
   "source": [
    "from sklearn.preprocessing import MinMaxScaler\n",
    "from sklearn.preprocessing import StandardScaler"
   ]
  },
  {
   "cell_type": "code",
   "execution_count": 32,
   "metadata": {},
   "outputs": [
    {
     "data": {
      "text/plain": [
       "array([[0.41015633, 0.32551235],\n",
       "       [0.53234499, 0.50768378],\n",
       "       [0.67003827, 0.73674893],\n",
       "       ...,\n",
       "       [0.41187901, 0.40111405],\n",
       "       [0.52550518, 0.47545241],\n",
       "       [0.75984908, 0.63760063]])"
      ]
     },
     "execution_count": 32,
     "metadata": {},
     "output_type": "execute_result"
    }
   ],
   "source": [
    "scaler1 = MinMaxScaler()\n",
    "MinMax_scaled_df = scaler1.fit_transform(x)\n",
    "MinMax_scaled_df"
   ]
  },
  {
   "cell_type": "code",
   "execution_count": 33,
   "metadata": {},
   "outputs": [
    {
     "data": {
      "text/plain": [
       "array([[0.41015633, 0.32551235],\n",
       "       [0.53234499, 0.50768378],\n",
       "       [0.67003827, 0.73674893],\n",
       "       ...,\n",
       "       [0.41187901, 0.40111405],\n",
       "       [0.52550518, 0.47545241],\n",
       "       [0.75984908, 0.63760063]])"
      ]
     },
     "execution_count": 33,
     "metadata": {},
     "output_type": "execute_result"
    }
   ],
   "source": [
    "scaler2 = MinMaxScaler()\n",
    "MinMax_scaled_df = scaler2.fit_transform(x)\n",
    "MinMax_scaled_df"
   ]
  },
  {
   "cell_type": "markdown",
   "metadata": {},
   "source": [
    "## Part-9 Splitting Data (Train and test dataset)\n"
   ]
  },
  {
   "cell_type": "code",
   "execution_count": 34,
   "metadata": {},
   "outputs": [],
   "source": [
    "from sklearn.model_selection import train_test_split"
   ]
  },
  {
   "cell_type": "code",
   "execution_count": null,
   "metadata": {},
   "outputs": [],
   "source": [
    "x_train,x_test,y_train,y_test = train_test_split(x,y,test_size=0.20)"
   ]
  },
  {
   "cell_type": "code",
   "execution_count": null,
   "metadata": {},
   "outputs": [],
   "source": [
    "x_train.info()\n",
    "y_train.info()"
   ]
  },
  {
   "cell_type": "code",
   "execution_count": null,
   "metadata": {},
   "outputs": [],
   "source": [
    "print(\"train data size (features) : \", len(x_train))\n",
    "print(\"train data size (target) : \", len(y_train))\n",
    "\n",
    "print(\"train data size (features) : \", len(x_test))\n",
    "print(\"train data size (target) : \", len(y_test))"
   ]
  }
 ],
 "metadata": {
  "kernelspec": {
   "display_name": "Python 3",
   "language": "python",
   "name": "python3"
  },
  "language_info": {
   "codemirror_mode": {
    "name": "ipython",
    "version": 3
   },
   "file_extension": ".py",
   "mimetype": "text/x-python",
   "name": "python",
   "nbconvert_exporter": "python",
   "pygments_lexer": "ipython3",
   "version": "3.11.7"
  }
 },
 "nbformat": 4,
 "nbformat_minor": 2
}
